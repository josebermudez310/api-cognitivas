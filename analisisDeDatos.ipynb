{
 "cells": [
  {
   "cell_type": "markdown",
   "id": "989a2ea2-9b5b-490a-97ea-a23d47592d7a",
   "metadata": {},
   "source": [
    "# Análisis de datos con sistema inteligentes\n",
    "\n",
    "Dentro de la big data. El análisis de datos es esencial para poder predecir y tomar decisiones dependiendo de la gran cantidad de datos.\n",
    "\n",
    "Teniendo esto en cuenta. En el presente notebook vamos a conectarnos con una IA, le vamos a pasar una base de datos fake con una gran cantidad de datos y se la pasaremos a al modelo para que este realice el análisis de este."
   ]
  },
  {
   "cell_type": "code",
   "execution_count": null,
   "id": "3121383b-2c28-4d6a-b8bf-89f8114c2448",
   "metadata": {},
   "outputs": [],
   "source": []
  }
 ],
 "metadata": {
  "kernelspec": {
   "display_name": "Python 3 (ipykernel)",
   "language": "python",
   "name": "python3"
  },
  "language_info": {
   "codemirror_mode": {
    "name": "ipython",
    "version": 3
   },
   "file_extension": ".py",
   "mimetype": "text/x-python",
   "name": "python",
   "nbconvert_exporter": "python",
   "pygments_lexer": "ipython3",
   "version": "3.12.1"
  }
 },
 "nbformat": 4,
 "nbformat_minor": 5
}
