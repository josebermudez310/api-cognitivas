{
 "cells": [
  {
   "cell_type": "markdown",
   "id": "989a2ea2-9b5b-490a-97ea-a23d47592d7a",
   "metadata": {},
   "source": [
    "# Análisis de datos con sistema inteligentes\n",
    "\n",
    "Dentro de la big data. El análisis de datos es esencial para poder predecir y tomar decisiones dependiendo de la gran cantidad de datos.\n",
    "\n",
    "Teniendo esto en cuenta. En el presente notebook vamos a conectarnos con una IA, le vamos a pasar una base de datos fake con una gran cantidad de datos y se la pasaremos a al modelo para que este realice el análisis de este."
   ]
  },
  {
   "cell_type": "markdown",
   "id": "4e11097b-01f2-41b0-8b2e-df89a36ec9ff",
   "metadata": {},
   "source": [
    "## Creacion de la base de datos\n",
    "Lo primero que necesitaremos es una base de datos la cual se la pasaremos al modelo para que realice el respectivo análisis de estos. Para ello pensemos en un tema en particular que aunque muchos no lo ven nos afecta de igual manera a todos. Este es los ciberataques. Al utilizar aplicaciones en internet se exponen muchos datos que a pesar no lo notamos se dan desde el navegador. Tambien cuando entramos a paginas web, iniciamos sesión, etc. Nuestros datos son tratados con las politicas de seguridad de los dueños de estas. Estos datos literalmente es oro para los atacantes que no escatiman recursos y tiempo para poder acceder a estos. \n",
    "\n",
    "Teniendo esto en cuenta. Con el siguiente fragmento de código generaremos una base de datos aleatoriamente para que la IA nos la analice y nos ayude a entender un poco más acerca de este tema."
   ]
  },
  {
   "cell_type": "code",
   "execution_count": 10,
   "id": "398215cc-c59d-4813-8df7-d9bab10256db",
   "metadata": {},
   "outputs": [
    {
     "name": "stdout",
     "output_type": "stream",
     "text": [
      "   ID     Tipo de Ataque País Afectado       Fecha Impacto\n",
      "0   1  Ingeniería Social         Rusia  2014-07-11    Alto\n",
      "1   2  Ingeniería Social      Colombia  2015-06-24    Bajo\n",
      "2   3  Ingeniería Social      Alemania  2017-10-16    Alto\n",
      "3   4           Phishing         China  2021-07-05   Medio\n",
      "4   5         Ransomware       Francia  2019-07-08   Medio\n"
     ]
    }
   ],
   "source": [
    "import pandas as pd\n",
    "import random\n",
    "import datetime\n",
    "\n",
    "# Definir los datos posibles\n",
    "tipos_ataque = [\"Phishing\", \"Ransomware\", \"DDoS\", \"Malware\", \"Ingeniería Social\"]\n",
    "paises = [\"EE.UU.\", \"China\", \"Rusia\", \"Alemania\", \"Brasil\", \"India\", \"Reino Unido\", \"Francia\", \"Japón\", \"Colombia\"]\n",
    "impactos = [\"Bajo\", \"Medio\", \"Alto\", \"Crítico\"]\n",
    "\n",
    "# Generar la información\n",
    "data = {\n",
    "    \"ID\": list(range(1, 5001)),  # 100 registros\n",
    "    \"Tipo de Ataque\": [random.choice(tipos_ataque) for _ in range(5000)],\n",
    "    \"País Afectado\": [random.choice(paises) for _ in range(5000)],\n",
    "    \"Fecha\": [(datetime.datetime.now() - datetime.timedelta(days=random.randint(1, 5000))).strftime(\"%Y-%m-%d\") for _ in range(5000)],\n",
    "    \"Impacto\": [random.choice(impactos) for _ in range(5000)]\n",
    "}\n",
    "\n",
    "# Crear el DataFrame\n",
    "df = pd.DataFrame(data)\n",
    "\n",
    "# Mostrar las primeras filas del DataFrame\n",
    "print(df.head())"
   ]
  },
  {
   "cell_type": "code",
   "execution_count": 17,
   "id": "854f8328-eab9-4e4d-8a2c-76307821e042",
   "metadata": {},
   "outputs": [
    {
     "name": "stdout",
     "output_type": "stream",
     "text": [
      "Requirement already satisfied: tabulate in /usr/local/python/3.12.1/lib/python3.12/site-packages (0.9.0)\n",
      "\n",
      "\u001b[1m[\u001b[0m\u001b[34;49mnotice\u001b[0m\u001b[1;39;49m]\u001b[0m\u001b[39;49m A new release of pip is available: \u001b[0m\u001b[31;49m25.0.1\u001b[0m\u001b[39;49m -> \u001b[0m\u001b[32;49m25.1.1\u001b[0m\n",
      "\u001b[1m[\u001b[0m\u001b[34;49mnotice\u001b[0m\u001b[1;39;49m]\u001b[0m\u001b[39;49m To update, run: \u001b[0m\u001b[32;49mpython3 -m pip install --upgrade pip\u001b[0m\n"
     ]
    },
    {
     "name": "stdin",
     "output_type": "stream",
     "text": [
      "\n",
      "Tu pregunta:   Dame un primer análisis de los datos.\n"
     ]
    },
    {
     "name": "stdout",
     "output_type": "stream",
     "text": [
      "Enviando pregunta...\n",
      "Respuesta del modelo gpt-4o: \n",
      "\n",
      "Para un primer análisis de los datos, realizo lo siguiente:\n",
      "\n",
      "### Código para describir la estructura del DataFrame:\n",
      "```python\n",
      "df.info()\n",
      "```\n",
      "**Explicación de resultados:** Este comando proporciona información sobre el DataFrame, como el número de filas, columnas, nombres de columnas, tipos de datos y cuántos valores no nulos hay en cada columna.\n",
      "\n",
      "---\n",
      "\n",
      "### Código para mostrar estadísticas descriptivas:\n",
      "```python\n",
      "df.describe(include='all')\n",
      "```\n",
      "**Explicación de resultados:** Este comando genera estadísticas resumidas, como el conteo, la media, la desviación estándar, valores únicos, valores más frecuentes, entre otros, para columnas numéricas y categóricas.\n",
      "\n",
      "---\n",
      "\n",
      "### Código para identificar valores faltantes:\n",
      "```python\n",
      "df.isnull().sum()\n",
      "```\n",
      "**Explicación de resultados:** Este comando muestra el número total de valores faltantes por columna, lo que permite evaluar la calidad de los datos.\n",
      "\n",
      "### Código para listar tipos de datos:\n",
      "```python\n",
      "df.dtypes\n",
      "```\n",
      "**Explicación de resultados:** Muestra el tipo de datos de cada columna, como `object`, `int64`, `float64`, etc.\n",
      "\n",
      "¿Te interesa que te proporcione algún detalle específico de estos análisis iniciales o seguimos con otro paso?"
     ]
    },
    {
     "name": "stdin",
     "output_type": "stream",
     "text": [
      "\n",
      "Tu pregunta:  Si, me puedes ayudar a generar un grafico para agrupando por alguna de las columnas del data frame?\n"
     ]
    },
    {
     "name": "stdout",
     "output_type": "stream",
     "text": [
      "Enviando pregunta...\n",
      "Respuesta del modelo gpt-4o: \n",
      "\n",
      "Claro, pero antes de generar el gráfico, vamos a realizar el primer análisis de los datos. Seguiré los pasos que mencioné antes:\n",
      "\n",
      "1. **Describir la estructura del DataFrame:**\n",
      "```python\n",
      "df.info()\n",
      "```\n",
      "Esto mostrará información como el número total de filas, columnas, tipos de datos y valores no nulos.\n",
      "\n",
      "2. **Mostrar estadísticas resumidas:**\n",
      "```python\n",
      "df.describe(include='all', datetime_is_numeric=True)\n",
      "```\n",
      "Esto te dará estadísticas como media, desviación estándar, valores únicos y los valores más frecuentes dependiendo del tipo de cada columna.\n",
      "\n",
      "3. **Identificar valores faltantes y tipos de datos:**\n",
      "```python\n",
      "df.isnull().sum()\n",
      "```\n",
      "Esto mostrará cuántos valores faltantes hay en cada columna.\n",
      "\n",
      "### Explicación del análisis:\n",
      "- `df.info()` te permitirá confirmar si hay tipos de datos correctos y cuántos valores faltan en total.\n",
      "- `df.describe()` te ayudará a comprender la distribución de los datos (en valores numéricos y categóricos).\n",
      "- `df.isnull().sum()` ayuda a detectar problemas de calidad de los datos.\n",
      "\n",
      "### Generar gráfico:\n",
      "Para generar un gráfico, dime qué columna deseas agrupar. Por ejemplo, si quieres agrupar por **\"País Afectado\"**, podríamos contar cuántos incidentes hubo por país, o si quieres agrupar por **\"Tipo de Ataque\"**, podríamos analizar su distribución.\n",
      "\n",
      "Por ejemplo, para graficar la cantidad de incidentes por **\"Tipo de Ataque\"**, el código sería:\n",
      "```python\n",
      "import matplotlib.pyplot as plt\n",
      "\n",
      "df['Tipo de Ataque'].value_counts().plot(kind='bar', figsize=(10, 6), color='skyblue')\n",
      "plt.title('Distribución por Tipo de Ataque')\n",
      "plt.xlabel('Tipo de Ataque')\n",
      "plt.ylabel('Cantidad de Incidentes')\n",
      "plt.show()\n",
      "```\n",
      "\n",
      "Indícame qué agrupación necesitas"
     ]
    },
    {
     "ename": "KeyboardInterrupt",
     "evalue": "Interrupted by user",
     "output_type": "error",
     "traceback": [
      "\u001b[31m---------------------------------------------------------------------------\u001b[39m",
      "\u001b[31mKeyboardInterrupt\u001b[39m                         Traceback (most recent call last)",
      "\u001b[36mCell\u001b[39m\u001b[36m \u001b[39m\u001b[32mIn[17]\u001b[39m\u001b[32m, line 32\u001b[39m\n\u001b[32m     10\u001b[39m messages = [\n\u001b[32m     11\u001b[39m     {\n\u001b[32m     12\u001b[39m         \u001b[33m\"\u001b[39m\u001b[33mrole\u001b[39m\u001b[33m\"\u001b[39m: \u001b[33m\"\u001b[39m\u001b[33msystem\u001b[39m\u001b[33m\"\u001b[39m,\n\u001b[32m   (...)\u001b[39m\u001b[32m     25\u001b[39m     },\n\u001b[32m     26\u001b[39m ]\n\u001b[32m     31\u001b[39m \u001b[38;5;28;01mwhile\u001b[39;00m \u001b[38;5;28;01mTrue\u001b[39;00m:\n\u001b[32m---> \u001b[39m\u001b[32m32\u001b[39m     question = \u001b[38;5;28;43minput\u001b[39;49m\u001b[43m(\u001b[49m\u001b[33;43m\"\u001b[39;49m\u001b[38;5;130;43;01m\\n\u001b[39;49;00m\u001b[33;43mTu pregunta: \u001b[39;49m\u001b[33;43m\"\u001b[39;49m\u001b[43m)\u001b[49m\n\u001b[32m     33\u001b[39m     \u001b[38;5;28mprint\u001b[39m(\u001b[33m\"\u001b[39m\u001b[33mEnviando pregunta...\u001b[39m\u001b[33m\"\u001b[39m)\n\u001b[32m     35\u001b[39m     messages.append({\u001b[33m\"\u001b[39m\u001b[33mrole\u001b[39m\u001b[33m\"\u001b[39m: \u001b[33m\"\u001b[39m\u001b[33muser\u001b[39m\u001b[33m\"\u001b[39m, \u001b[33m\"\u001b[39m\u001b[33mcontent\u001b[39m\u001b[33m\"\u001b[39m: question})\n",
      "\u001b[36mFile \u001b[39m\u001b[32m~/.local/lib/python3.12/site-packages/ipykernel/kernelbase.py:1282\u001b[39m, in \u001b[36mKernel.raw_input\u001b[39m\u001b[34m(self, prompt)\u001b[39m\n\u001b[32m   1280\u001b[39m     msg = \u001b[33m\"\u001b[39m\u001b[33mraw_input was called, but this frontend does not support input requests.\u001b[39m\u001b[33m\"\u001b[39m\n\u001b[32m   1281\u001b[39m     \u001b[38;5;28;01mraise\u001b[39;00m StdinNotImplementedError(msg)\n\u001b[32m-> \u001b[39m\u001b[32m1282\u001b[39m \u001b[38;5;28;01mreturn\u001b[39;00m \u001b[38;5;28;43mself\u001b[39;49m\u001b[43m.\u001b[49m\u001b[43m_input_request\u001b[49m\u001b[43m(\u001b[49m\n\u001b[32m   1283\u001b[39m \u001b[43m    \u001b[49m\u001b[38;5;28;43mstr\u001b[39;49m\u001b[43m(\u001b[49m\u001b[43mprompt\u001b[49m\u001b[43m)\u001b[49m\u001b[43m,\u001b[49m\n\u001b[32m   1284\u001b[39m \u001b[43m    \u001b[49m\u001b[38;5;28;43mself\u001b[39;49m\u001b[43m.\u001b[49m\u001b[43m_parent_ident\u001b[49m\u001b[43m[\u001b[49m\u001b[33;43m\"\u001b[39;49m\u001b[33;43mshell\u001b[39;49m\u001b[33;43m\"\u001b[39;49m\u001b[43m]\u001b[49m\u001b[43m,\u001b[49m\n\u001b[32m   1285\u001b[39m \u001b[43m    \u001b[49m\u001b[38;5;28;43mself\u001b[39;49m\u001b[43m.\u001b[49m\u001b[43mget_parent\u001b[49m\u001b[43m(\u001b[49m\u001b[33;43m\"\u001b[39;49m\u001b[33;43mshell\u001b[39;49m\u001b[33;43m\"\u001b[39;49m\u001b[43m)\u001b[49m\u001b[43m,\u001b[49m\n\u001b[32m   1286\u001b[39m \u001b[43m    \u001b[49m\u001b[43mpassword\u001b[49m\u001b[43m=\u001b[49m\u001b[38;5;28;43;01mFalse\u001b[39;49;00m\u001b[43m,\u001b[49m\n\u001b[32m   1287\u001b[39m \u001b[43m\u001b[49m\u001b[43m)\u001b[49m\n",
      "\u001b[36mFile \u001b[39m\u001b[32m~/.local/lib/python3.12/site-packages/ipykernel/kernelbase.py:1325\u001b[39m, in \u001b[36mKernel._input_request\u001b[39m\u001b[34m(self, prompt, ident, parent, password)\u001b[39m\n\u001b[32m   1322\u001b[39m \u001b[38;5;28;01mexcept\u001b[39;00m \u001b[38;5;167;01mKeyboardInterrupt\u001b[39;00m:\n\u001b[32m   1323\u001b[39m     \u001b[38;5;66;03m# re-raise KeyboardInterrupt, to truncate traceback\u001b[39;00m\n\u001b[32m   1324\u001b[39m     msg = \u001b[33m\"\u001b[39m\u001b[33mInterrupted by user\u001b[39m\u001b[33m\"\u001b[39m\n\u001b[32m-> \u001b[39m\u001b[32m1325\u001b[39m     \u001b[38;5;28;01mraise\u001b[39;00m \u001b[38;5;167;01mKeyboardInterrupt\u001b[39;00m(msg) \u001b[38;5;28;01mfrom\u001b[39;00m\u001b[38;5;250m \u001b[39m\u001b[38;5;28;01mNone\u001b[39;00m\n\u001b[32m   1326\u001b[39m \u001b[38;5;28;01mexcept\u001b[39;00m \u001b[38;5;167;01mException\u001b[39;00m:\n\u001b[32m   1327\u001b[39m     \u001b[38;5;28mself\u001b[39m.log.warning(\u001b[33m\"\u001b[39m\u001b[33mInvalid Message:\u001b[39m\u001b[33m\"\u001b[39m, exc_info=\u001b[38;5;28;01mTrue\u001b[39;00m)\n",
      "\u001b[31mKeyboardInterrupt\u001b[39m: Interrupted by user"
     ]
    }
   ],
   "source": [
    "!pip install tabulate\n",
    "import os\n",
    "import openai\n",
    "\n",
    "apiKey = os.environ[\"GITHUB_TOKEN\"]\n",
    "\n",
    "client = openai.OpenAI(base_url=\"https://models.inference.ai.azure.com\", api_key=apiKey)\n",
    "modelName = \"gpt-4o\"\n",
    "\n",
    "messages = [\n",
    "    {\n",
    "        \"role\": \"system\",\n",
    "        \"content\": (\n",
    "            \"Eres un asistente experto en análisis de datos con Python y pandas. \"\n",
    "            \"Vas a trabajar con un DataFrame que tiene miles de filas y múltiples columnas. \"\n",
    "            \"Para no saturar la salida, nunca muestres el DataFrame completo, \"\n",
    "            \"sino que debes:\\n\"\n",
    "            \"1. Describir la estructura (df.info()).\\n\"\n",
    "            \"2. Mostrar estadísticas resumidas (df.describe()).\\n\"\n",
    "            \"3. Identificar valores faltantes y tipos de datos.\\n\"\n",
    "            \"4. Proponer y ejecutar filtrados o agrupaciones según lo solicite el usuario.\\n\"\n",
    "            \"Cuando respondas, incluye únicamente el fragmento de código pandas \"\n",
    "            \"necesario y una breve explicación de los resultados.\"\n",
    "            f\"Este es el data frame con el que trabajarás {df}\"),\n",
    "    },\n",
    "]\n",
    "\n",
    "\n",
    "\n",
    "\n",
    "while True:\n",
    "    question = input(\"\\nTu pregunta: \")\n",
    "    print(\"Enviando pregunta...\")\n",
    "\n",
    "    messages.append({\"role\": \"user\", \"content\": question})\n",
    "    response = client.chat.completions.create(\n",
    "        model=modelName,\n",
    "        messages=messages,\n",
    "        temperature=1,\n",
    "        max_tokens=400,\n",
    "        top_p=0.95,\n",
    "        frequency_penalty=0,\n",
    "        presence_penalty=0,\n",
    "        stop=None,\n",
    "        stream=True\n",
    "    )\n",
    "    showModelResponse(response)\n",
    "\n",
    "def showModelResponse(respose):\n",
    "    print(f\"Respuesta del modelo {modelName}: \\n\")\n",
    "    for event in respose:\n",
    "        if event.choices:\n",
    "            content = event.choices[0].delta.content\n",
    "            if content:\n",
    "                print(content, end=\"\", flush=True)"
   ]
  },
  {
   "cell_type": "code",
   "execution_count": 18,
   "id": "5c06ec4e-7be1-4ff7-811a-4bdf6c874746",
   "metadata": {},
   "outputs": [
    {
     "data": {
      "image/png": "[encoded data removed]",
      "text/plain": [
       "<Figure size 1000x600 with 1 Axes>"
      ]
     },
     "metadata": {},
     "output_type": "display_data"
    }
   ],
   "source": [
    "import matplotlib.pyplot as plt\n",
    "\n",
    "df['Tipo de Ataque'].value_counts().plot(kind='bar', figsize=(10, 6), color='skyblue')\n",
    "plt.title('Distribución por Tipo de Ataque')\n",
    "plt.xlabel('Tipo de Ataque')\n",
    "plt.ylabel('Cantidad de Incidentes')\n",
    "plt.show()"
   ]
  },
  {
   "cell_type": "code",
   "execution_count": null,
   "id": "ac635af7-a1ff-4fec-b780-f40a4c0cecf5",
   "metadata": {},
   "outputs": [],
   "source": []
  }
 ],
 "metadata": {
  "kernelspec": {
   "display_name": "Python 3 (ipykernel)",
   "language": "python",
   "name": "python3"
  },
  "language_info": {
   "codemirror_mode": {
    "name": "ipython",
    "version": 3
   },
   "file_extension": ".py",
   "mimetype": "text/x-python",
   "name": "python",
   "nbconvert_exporter": "python",
   "pygments_lexer": "ipython3",
   "version": "3.12.1"
  }
 },
 "nbformat": 4,
 "nbformat_minor": 5
}
